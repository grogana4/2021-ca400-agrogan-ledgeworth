version https://git-lfs.github.com/spec/v1
oid sha256:c22a0ed9298e8d5769a6a8caefb330835861f44158a67861ee7cceea193e6d61
size 12457
