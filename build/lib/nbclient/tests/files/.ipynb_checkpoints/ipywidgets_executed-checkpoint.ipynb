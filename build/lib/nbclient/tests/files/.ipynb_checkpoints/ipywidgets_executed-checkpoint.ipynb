version https://git-lfs.github.com/spec/v1
oid sha256:090233b660b13cb0e791bafa29d44ebad13974b3efc0c427ec40375ff28ee1a9
size 6771
