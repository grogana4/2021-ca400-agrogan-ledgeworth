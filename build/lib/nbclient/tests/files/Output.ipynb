version https://git-lfs.github.com/spec/v1
oid sha256:c45bf6e59796c5aaddba07682c205765bd5933788ecd8e01d91a320948356c6f
size 20337
